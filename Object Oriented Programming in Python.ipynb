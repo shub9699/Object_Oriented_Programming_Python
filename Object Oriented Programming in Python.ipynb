{
 "cells": [
  {
   "cell_type": "markdown",
   "metadata": {},
   "source": [
    "# Q.1"
   ]
  },
  {
   "cell_type": "code",
   "execution_count": 1,
   "metadata": {},
   "outputs": [],
   "source": [
    "def words_btwn(string, between):\n",
    "    return between[:2] + string + between[2:]"
   ]
  },
  {
   "cell_type": "code",
   "execution_count": 2,
   "metadata": {},
   "outputs": [
    {
     "data": {
      "text/plain": [
       "'||shubham||'"
      ]
     },
     "execution_count": 2,
     "metadata": {},
     "output_type": "execute_result"
    }
   ],
   "source": [
    "words_btwn(\"shubham\", \"||||\")"
   ]
  },
  {
   "cell_type": "markdown",
   "metadata": {},
   "source": [
    "# Q.2"
   ]
  },
  {
   "cell_type": "code",
   "execution_count": 3,
   "metadata": {},
   "outputs": [],
   "source": [
    "def without_extreme_alphabets(str):\n",
    "    return str[1:-1]"
   ]
  },
  {
   "cell_type": "code",
   "execution_count": 4,
   "metadata": {},
   "outputs": [
    {
     "data": {
      "text/plain": [
       "'YNAM'"
      ]
     },
     "execution_count": 4,
     "metadata": {},
     "output_type": "execute_result"
    }
   ],
   "source": [
    "without_extreme_alphabets(\"MYNAME\")"
   ]
  },
  {
   "cell_type": "markdown",
   "metadata": {},
   "source": [
    "# Q.3"
   ]
  },
  {
   "cell_type": "code",
   "execution_count": 5,
   "metadata": {},
   "outputs": [],
   "source": [
    "def squirel_cigar_party(cigars, is_it_weekend):\n",
    "    return cigars >= 40 if is_it_weekend else cigars in range(40,61)\n",
    "    \n"
   ]
  },
  {
   "cell_type": "code",
   "execution_count": 6,
   "metadata": {},
   "outputs": [
    {
     "data": {
      "text/plain": [
       "True"
      ]
     },
     "execution_count": 6,
     "metadata": {},
     "output_type": "execute_result"
    }
   ],
   "source": [
    "squirel_cigar_party(92, True)"
   ]
  },
  {
   "cell_type": "markdown",
   "metadata": {},
   "source": [
    "# Q.4"
   ]
  },
  {
   "cell_type": "code",
   "execution_count": 7,
   "metadata": {},
   "outputs": [],
   "source": [
    "def duplicate(str):\n",
    "    new_str = \"\".join([i+j for i,j in zip(list(str),list(str))])\n",
    "    return new_str"
   ]
  },
  {
   "cell_type": "code",
   "execution_count": 8,
   "metadata": {},
   "outputs": [
    {
     "data": {
      "text/plain": [
       "'ssoonnuu'"
      ]
     },
     "execution_count": 8,
     "metadata": {},
     "output_type": "execute_result"
    }
   ],
   "source": [
    "duplicate(\"sonu\")"
   ]
  },
  {
   "cell_type": "markdown",
   "metadata": {},
   "source": [
    "# Q.5"
   ]
  },
  {
   "cell_type": "code",
   "execution_count": 9,
   "metadata": {},
   "outputs": [],
   "source": [
    "def get_evenNum(l):\n",
    "    evenNum = []\n",
    "    for number in l:\n",
    "        if number % 2 == 0:\n",
    "            evenNum.append(number)\n",
    "    return evenNum"
   ]
  },
  {
   "cell_type": "code",
   "execution_count": 10,
   "metadata": {},
   "outputs": [
    {
     "data": {
      "text/plain": [
       "[2, 4, 6, 8]"
      ]
     },
     "execution_count": 10,
     "metadata": {},
     "output_type": "execute_result"
    }
   ],
   "source": [
    "get_evenNum([1,2,3,4,5,6,7,8,9])"
   ]
  },
  {
   "cell_type": "markdown",
   "metadata": {},
   "source": [
    "# Q.6"
   ]
  },
  {
   "cell_type": "code",
   "execution_count": 11,
   "metadata": {},
   "outputs": [],
   "source": [
    "def difference(n):\n",
    "    print(max(n))\n",
    "    print(min(n))\n",
    "    return max(n) - min(n)"
   ]
  },
  {
   "cell_type": "code",
   "execution_count": 12,
   "metadata": {},
   "outputs": [
    {
     "name": "stdout",
     "output_type": "stream",
     "text": [
      "7\n",
      "1\n"
     ]
    },
    {
     "data": {
      "text/plain": [
       "6"
      ]
     },
     "execution_count": 12,
     "metadata": {},
     "output_type": "execute_result"
    }
   ],
   "source": [
    "difference([1,2,3,4,5,6,6,7])"
   ]
  },
  {
   "cell_type": "markdown",
   "metadata": {},
   "source": [
    "# Q.7"
   ]
  },
  {
   "cell_type": "code",
   "execution_count": 13,
   "metadata": {},
   "outputs": [
    {
     "name": "stdout",
     "output_type": "stream",
     "text": [
      "56\n",
      "456\n",
      "Fuel needed will be: 2128.000L\n"
     ]
    }
   ],
   "source": [
    "time_spent = int(input())\n",
    "avg_speed = int(input())\n",
    "\n",
    "fuel_spent = (avg_speed * time_spent) / 12\n",
    "print(f'Fuel needed will be: {fuel_spent:.3f}'\"L\")"
   ]
  },
  {
   "cell_type": "markdown",
   "metadata": {},
   "source": [
    "# Q.8"
   ]
  },
  {
   "cell_type": "code",
   "execution_count": 14,
   "metadata": {},
   "outputs": [
    {
     "name": "stdout",
     "output_type": "stream",
     "text": [
      "5464\n",
      "New Salary: 5682.56\n",
      "Money earned: 218.560\n",
      "readjustment rate: 4.000%\n"
     ]
    }
   ],
   "source": [
    "salary = float(input())\n",
    "\n",
    "if(salary >= 0 and salary <= 400):\n",
    "    adjust_salary = salary*0.15\n",
    "    new_salary = salary + adjust_salary\n",
    "    percentage_hike = 15\n",
    "    \n",
    "elif(salary >= 400.1 and salary <= 800):\n",
    "    adjust_salary = salary*0.12\n",
    "    new_salary = salary + adjust_salary\n",
    "    percentage_hike = 12\n",
    "\n",
    "elif(salary >= 800.1 and salary <= 1200):\n",
    "    adjust_salary = salary*0.07\n",
    "    new_salary = salary + adjust_salary\n",
    "    percentage_hike = 7\n",
    "\n",
    "elif(salary >2000):\n",
    "    adjust_salary = salary*0.04\n",
    "    new_salary = salary + adjust_salary\n",
    "    percentage_hike = 4\n",
    "print(f\"New Salary: {new_salary:.2f}\")\n",
    "print(f\"Money earned: {adjust_salary:.3f}\")\n",
    "print(f\"readjustment rate: {percentage_hike:.3f}%\")"
   ]
  },
  {
   "cell_type": "markdown",
   "metadata": {},
   "source": [
    "# Q.9"
   ]
  },
  {
   "cell_type": "code",
   "execution_count": 5,
   "metadata": {},
   "outputs": [],
   "source": [
    "def FooBarQix(number):\n",
    "    dictio={3:\"Foo\",5:\"Bar\",7:\"Qix\"}\n",
    "    output = replace_by_divisible(dictio, number) + replace_by_contains(dictio, number)\n",
    "    if Divisible_or_contains(output):\n",
    "        return \"\".join(output)\n",
    "    return str(number)\n",
    "def replace_by_divisible(dictio,number):\n",
    "    return [ value for divisor,value in dictio.items() if number % divisor == 0 ]\n",
    "def Divisible_or_contains(string):\n",
    "    return len(string) > 0\n",
    "def replace_by_contains(dictio, number):\n",
    "    return [ dictio[int(digit)] for digit in str(number) if int(digit) in dictio ]"
   ]
  },
  {
   "cell_type": "code",
   "execution_count": 6,
   "metadata": {},
   "outputs": [
    {
     "name": "stdout",
     "output_type": "stream",
     "text": [
      "1\n",
      "QixQix\n",
      "BarBar\n",
      "FooFoo\n",
      "FooFooFoo\n",
      "BarBarBar\n"
     ]
    }
   ],
   "source": [
    "print(FooBarQix(1))\n",
    "print(FooBarQix(7))\n",
    "print(FooBarQix(5))\n",
    "print(FooBarQix(3))\n",
    "print(FooBarQix(33))\n",
    "print(FooBarQix(55))"
   ]
  }
 ],
 "metadata": {
  "kernelspec": {
   "display_name": "Python 3",
   "language": "python",
   "name": "python3"
  },
  "language_info": {
   "codemirror_mode": {
    "name": "ipython",
    "version": 3
   },
   "file_extension": ".py",
   "mimetype": "text/x-python",
   "name": "python",
   "nbconvert_exporter": "python",
   "pygments_lexer": "ipython3",
   "version": "3.7.4"
  }
 },
 "nbformat": 4,
 "nbformat_minor": 2
}
